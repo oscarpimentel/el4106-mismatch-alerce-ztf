{
 "cells": [
  {
   "cell_type": "markdown",
   "metadata": {},
   "source": [
    "# ALeRCE classes\n",
    "\n",
    "https://github.com/ZwickyTransientFacility/ztf-avro-alert\n",
    "\n",
    "1. **AGN:** Active Galactic Nuclei\n",
    "1. **Blazar:** Blazar\n",
    "1. **CV/Nova:** Cataclysmic Variable Star/Nova\n",
    "1. **Ceph:** Cepheid Variable Star\n",
    "1. **DSCT:** Delta Scuti Star\n",
    "1. **EA:** Eclipsing Algol\n",
    "1. **EB/EW:** Eclipsing Binaries/Eclipsing W Ursa Majoris\n",
    "1. **LPV:** Long Period Variable\n",
    "1. **Periodic-Other:** Periodic-Other\n",
    "1. **QSO:** Quasi-Stellar Object\n",
    "1. **RRL:** RRLyrae Variable Star\n",
    "1. **RSCVn:** RS Canum Venaticorum\n",
    "1. **SLSN:** Super Luminous Supernova\n",
    "1. **SNII:** Supernova II\n",
    "1. **SNIIb:** Supernova IIb\n",
    "1. **SNIIn:** Supernova IIn\n",
    "1. **SNIa:** Supernova Ia\n",
    "1. **SNIbc:** Supernova Ibc\n",
    "1. **TDE:** Tidal disruption event (to remove)\n",
    "1. **YSO:** Young Stellar Object\n",
    "1. **ZZ:** ZZ Ceti Stars (to remove)"
   ]
  },
  {
   "cell_type": "code",
   "execution_count": null,
   "metadata": {},
   "outputs": [],
   "source": [
    "import sys\n",
    "sys.path.append('../../')"
   ]
  },
  {
   "cell_type": "code",
   "execution_count": null,
   "metadata": {},
   "outputs": [],
   "source": [
    "%load_ext autoreload\n",
    "%autoreload 2\n",
    "from mismatch.alerce_utils import process_df_labels, process_df_detections, keep_only_valid_objs\n",
    "import numpy as np\n",
    "import pandas as pd\n",
    "\n",
    "load_rootdir = '../../../../tesis/surveys_data'\n",
    "survey_name = 'alerceZTFv7.1'\n",
    "df_index_names = {\n",
    "    'oid':'oid', # object id\n",
    "    'oid_det':'index', # object id\n",
    "    'label':'classALeRCE', # object class name\n",
    "    'ra':'ra',\n",
    "    'dec':'dec',\n",
    "    'band':'fid', # band\n",
    "    'obs_day':'mjd', # days\n",
    "    'obs':'magpsf_corr', # observations\n",
    "    'obs_error':'sigmapsf_corr', # observation errors\n",
    "}\n",
    "\n",
    "### load files and processing\n",
    "features_df = pd.read_parquet(f'{load_rootdir}/{survey_name}/storage/ztf_workspace/historic_data_20200916')\n",
    "features_df = features_df.set_index(['index'])\n",
    "features_df, det_objs = process_df_detections(features_df, df_index_names['oid_det'], df_index_names['oid'])\n",
    "print(f'features_df - columns: {list(features_df.columns)} - id: {features_df.index.name}')\n",
    "\n",
    "labels_df = pd.read_csv(f'{load_rootdir}/{survey_name}/dfcrossmatches_prioritized_v7.0.1.csv')\n",
    "labels_df, label_objs = process_df_labels(labels_df, df_index_names['oid'], det_objs)\n",
    "print(f'labels - columns: {list(labels_df.columns)} - id: {labels_df.index.name}')\n",
    "\n",
    "### filter\n",
    "#valid_objs = sorted(list(set(det_objs) & set(label_objs)))\n",
    "#labels_df = keep_only_valid_objs(labels_df, valid_objs)\n",
    "#features_df = keep_only_valid_objs(features_df, valid_objs)\n",
    "\n",
    "### print info\n",
    "classes = sorted(set(labels_df[df_index_names['label']].values))\n",
    "print('classes:', classes)"
   ]
  },
  {
   "cell_type": "code",
   "execution_count": null,
   "metadata": {},
   "outputs": [],
   "source": [
    "%load_ext autoreload\n",
    "%autoreload 2\n",
    "from mismatch.level_bars import LevelBar\n",
    "\n",
    "classes, counts = np.unique(labels_df[df_index_names['label']].values, return_counts=True)\n",
    "population_cdict = {c:counts[kc] for kc,c in enumerate(classes)}\n",
    "print(LevelBar(population_cdict, ncols=60))"
   ]
  },
  {
   "cell_type": "code",
   "execution_count": null,
   "metadata": {},
   "outputs": [],
   "source": [
    "print('features_df:', features_df.info())\n",
    "features_df[:10]"
   ]
  },
  {
   "cell_type": "code",
   "execution_count": null,
   "metadata": {},
   "outputs": [],
   "source": [
    "print('labels_df:', labels_df.info())\n",
    "labels_df[:10]"
   ]
  },
  {
   "cell_type": "code",
   "execution_count": null,
   "metadata": {},
   "outputs": [],
   "source": [
    "%load_ext autoreload\n",
    "%autoreload 2\n",
    "from mismatch.alerce_utils import get_train_test_split\n",
    "\n",
    "train_features_df, test_features_df = get_train_test_split(features_df, labels_df, df_index_names['oid'])"
   ]
  },
  {
   "cell_type": "markdown",
   "metadata": {},
   "source": [
    "# prints"
   ]
  },
  {
   "cell_type": "code",
   "execution_count": null,
   "metadata": {},
   "outputs": [],
   "source": [
    "print(train_features_df.info())\n",
    "train_features_df[:10]"
   ]
  },
  {
   "cell_type": "code",
   "execution_count": null,
   "metadata": {},
   "outputs": [],
   "source": [
    "print(test_features_df.info())\n",
    "test_features_df[:10]"
   ]
  },
  {
   "cell_type": "code",
   "execution_count": null,
   "metadata": {},
   "outputs": [],
   "source": [
    "import pandas as pd\n",
    "\n",
    "### save files\n",
    "save_root_dir = f'../../data/{survey_name}'\n",
    "labels_df.to_parquet(f'{save_root_dir}/labels.parquet')\n",
    "train_features_df.to_parquet(f'{save_root_dir}/features_train.parquet')\n",
    "test_features_df.to_parquet(f'{save_root_dir}/features_test.parquet')"
   ]
  }
 ],
 "metadata": {
  "kernelspec": {
   "display_name": "Python 3",
   "language": "python",
   "name": "python3"
  },
  "language_info": {
   "codemirror_mode": {
    "name": "ipython",
    "version": 3
   },
   "file_extension": ".py",
   "mimetype": "text/x-python",
   "name": "python",
   "nbconvert_exporter": "python",
   "pygments_lexer": "ipython3",
   "version": "3.7.9"
  }
 },
 "nbformat": 4,
 "nbformat_minor": 2
}
