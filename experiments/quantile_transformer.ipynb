{
 "cells": [
  {
   "cell_type": "markdown",
   "metadata": {},
   "source": [
    "Experimento muy simple solo para ilustrar el funcionamiento del QuantileTransformer cuando se tiene un target de distribución gaussiana.\n",
    "\n",
    "sklearn.preprocessing.QuantileTransformer:\n",
    "1. https://scikit-learn.org/stable/modules/generated/sklearn.preprocessing.QuantileTransformer.html#sklearn.preprocessing.QuantileTransformer.inverse_transform\n",
    "1. https://en.wikipedia.org/wiki/Quantile_normalization\n",
    "1. https://stats.stackexchange.com/questions/325570/quantile-transformation-with-gaussian-distribution-sklearn-implementation"
   ]
  },
  {
   "cell_type": "code",
   "execution_count": null,
   "metadata": {},
   "outputs": [],
   "source": [
    "import sys\n",
    "sys.path.append('../')"
   ]
  },
  {
   "cell_type": "code",
   "execution_count": null,
   "metadata": {},
   "outputs": [],
   "source": [
    "%load_ext autoreload\n",
    "%autoreload 2\n",
    "import numpy as np\n",
    "import matplotlib\n",
    "import matplotlib.pyplot as plt\n",
    "from mismatch.quantile_transform import naive_quantile_normal\n",
    "from fuzzytools.matplotlib.plots import plot_hist_bins\n",
    "\n",
    "'''\n",
    "cdf = cumulative density function\n",
    "ppf = Percent point function (inverse of cdf — percentiles).\n",
    "'''\n",
    "\n",
    "fig, axs = plt.subplots(1, 2, figsize=(15,6))\n",
    "n = 500\n",
    "to_plot_points = 30\n",
    "hist_kwargs = {\n",
    "    'fig':fig,\n",
    "    'ax':axs[0],\n",
    "    'bins':50,\n",
    "    'cmap':matplotlib.colors.ListedColormap(['r','b'], name=''),\n",
    "    'title':'data distribution',\n",
    "    'legend_loc':'upper left',\n",
    "}\n",
    "\n",
    "n_quantiles = 100 # or percentiles\n",
    "x = np.random.RandomState(0).normal(loc=0.8, scale=0.5, size=(n,1)) # generate random data\n",
    "normx, to_plot = naive_quantile_normal(x, n_quantiles) # get nromalized data\n",
    "x_percentiles, x_distr_ppf, x_percentiles_i, normx_percentiles_i, norm_ppf = to_plot\n",
    "\n",
    "### plots\n",
    "to_plot = {'x':x, 'normx':normx[~(np.abs(normx)==np.infty)]} # for this example, we don't care for infty values\n",
    "plot_hist_bins(to_plot, **hist_kwargs)\n",
    "\n",
    "ax = axs[1]\n",
    "ax.plot(x_percentiles, x_distr_ppf, '-r', label='x-distribution ppf')\n",
    "ax.plot(x_percentiles_i[:30], x[:30], 'or', label='x-ppf per each data point')\n",
    "ax.plot(x_percentiles, norm_ppf, 'b-', label='normal-distribution ppf')\n",
    "ax.plot(normx_percentiles_i[:30], normx[:30], 'ob', label='normx-ppf per each data point')\n",
    "for i in range(0,30):\n",
    "    ax.plot([x_percentiles_i[i], normx_percentiles_i[i]], [x[i], normx[i]], 'k', label='map' if i==0 else None)\n",
    "ax.grid(alpha=0.5)\n",
    "ax.set_title('ppf functions for distributions (ppf = inverse of cdf)\\nnew data points in normx share the same percentiles as x')\n",
    "ax.set_xlabel('percentiles')\n",
    "ax.set_ylabel('ppf values')\n",
    "ax.legend()"
   ]
  }
 ],
 "metadata": {
  "kernelspec": {
   "display_name": "Python 3 (ipykernel)",
   "language": "python",
   "name": "python3"
  },
  "language_info": {
   "codemirror_mode": {
    "name": "ipython",
    "version": 3
   },
   "file_extension": ".py",
   "mimetype": "text/x-python",
   "name": "python",
   "nbconvert_exporter": "python",
   "pygments_lexer": "ipython3",
   "version": "3.7.11"
  }
 },
 "nbformat": 4,
 "nbformat_minor": 2
}
