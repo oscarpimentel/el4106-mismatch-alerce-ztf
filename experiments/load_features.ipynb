{
 "cells": [
  {
   "cell_type": "markdown",
   "metadata": {},
   "source": [
    "# ALeRCE classes\n",
    "\n",
    "https://github.com/ZwickyTransientFacility/ztf-avro-alert\n",
    "\n",
    "Transient events:\n",
    "1. **SLSN:** Super Luminous Supernova\n",
    "1. **SNII:** Supernova II\n",
    "1. **SNIIb:** Supernova IIb\n",
    "1. **SNIIn:** Supernova IIn\n",
    "1. **SNIa:** Supernova Ia\n",
    "1. **SNIbc:** Supernova Ibc\n",
    "\n",
    "Variable events:\n",
    "1. **LPV:** Long Period Variable\n",
    "1. **Ceph:** Cepheid Variable Star\n",
    "1. **RRL:** RRLyrae Variable Star\n",
    "1. **DSCT:** Delta Scuti Star\n",
    "1. **EB/EW:** Eclipsing Binaries/Eclipsing W Ursa Majoris\n",
    "1. **Periodic-Other:** Periodic-Other\n",
    "1. **EA:** Eclipsing Algol (optional)\n",
    "1. **RSCVn:** RS Canum Venaticorum (optional)\n",
    "\n",
    "Stochastic events:\n",
    "1. **Blazar:** Blazar\n",
    "1. **QSO:** Quasi-Stellar Object\n",
    "1. **AGN:** Active Galactic Nuclei\n",
    "1. **YSO:** Young Stellar Object\n",
    "1. **CV/Nova:** Cataclysmic Variable Star/Nova\n",
    "\n",
    "Others (to remove):\n",
    "1. **TDE:** Tidal disruption event\n",
    "1. **ZZ:** ZZ Ceti Stars"
   ]
  },
  {
   "cell_type": "markdown",
   "metadata": {},
   "source": [
    "# Columns names\n",
    "1. **oid:** object id\n",
    "1. **classALeRCE:** object class name\n",
    "1. **fid:** band index, g=1, r=2"
   ]
  },
  {
   "cell_type": "code",
   "execution_count": null,
   "metadata": {},
   "outputs": [],
   "source": [
    "import sys\n",
    "sys.path.append('../')\n",
    "sys.path.append('../../')"
   ]
  },
  {
   "cell_type": "code",
   "execution_count": null,
   "metadata": {},
   "outputs": [],
   "source": [
    "import numpy as np\n",
    "import pandas as pd\n",
    "\n",
    "#survey_name = 'alerceZTFv5.1'\n",
    "survey_name = 'alerceZTFv7.1' # use this dataset\n",
    "df_index_names = {\n",
    "    'oid':'oid', # object id\n",
    "    'label':'classALeRCE', # object class name\n",
    "    'ra':'ra',\n",
    "    'dec':'dec',\n",
    "    'band':'fid', # band\n",
    "    'obs_day':'mjd', # days\n",
    "    'obs':'magpsf_corr', # observations\n",
    "    'obs_error':'sigmapsf_corr', # observation errors\n",
    "}\n",
    "\n",
    "### load files\n",
    "load_root_dir = f'../data/{survey_name}'\n",
    "labels_df = pd.read_parquet(f'{load_root_dir}/labels.parquet')\n",
    "print(f'labels_df; columns={list(labels_df.columns)}; id={labels_df.index.name}')\n",
    "\n",
    "features_labeled_df = pd.read_parquet(f'{load_root_dir}/features_labeled.parquet')\n",
    "print(f'features_labeled_df; id={features_labeled_df.index.name}')\n",
    "for k,c in enumerate(list(features_labeled_df.columns)):\n",
    "    print(f'({k}) - {c}')\n",
    "\n",
    "features_nonlabeled_df = pd.read_parquet(f'{load_root_dir}/features_nonlabeled.parquet')\n",
    "#print(f'features_nonlabeled_df - columns: {list(features_nonlabeled_df.columns)} - id: {features_nonlabeled_df.index.name}')"
   ]
  },
  {
   "cell_type": "code",
   "execution_count": null,
   "metadata": {},
   "outputs": [],
   "source": [
    "%load_ext autoreload\n",
    "%autoreload 2\n",
    "from fuzzytools.level_bars import LevelBar\n",
    "\n",
    "classes, counts = np.unique(labels_df[df_index_names['label']].values, return_counts=True)\n",
    "population_cdict = {c:counts[kc] for kc,c in enumerate(classes)}\n",
    "print(LevelBar(population_cdict, ncols=60))"
   ]
  },
  {
   "cell_type": "code",
   "execution_count": null,
   "metadata": {},
   "outputs": [],
   "source": [
    "print(labels_df.info())\n",
    "labels_df[:20]"
   ]
  },
  {
   "cell_type": "code",
   "execution_count": null,
   "metadata": {},
   "outputs": [],
   "source": [
    "print(features_labeled_df.info())\n",
    "features_labeled_df[:10]"
   ]
  },
  {
   "cell_type": "code",
   "execution_count": null,
   "metadata": {},
   "outputs": [],
   "source": [
    "print(features_nonlabeled_df.info())\n",
    "features_nonlabeled_df[:10]"
   ]
  },
  {
   "cell_type": "code",
   "execution_count": null,
   "metadata": {},
   "outputs": [],
   "source": [
    "%load_ext autoreload\n",
    "%autoreload 2\n",
    "from mismatch import _C\n",
    "from mismatch.utils import get_object_features\n",
    "from dask import dataframe as dd\n",
    "\n",
    "### example using dask\n",
    "features_labeled_ddf = dd.from_pandas(features_labeled_df, npartitions=_C.N_DASK) # dask dataframe can be faster\n",
    "features_nonlabeled_ddf = dd.from_pandas(features_nonlabeled_df, npartitions=_C.N_DASK) # dask dataframe can be faster\n",
    "labels_ddf = dd.from_pandas(labels_df, npartitions=_C.N_DASK) # dask dataframe can be faster"
   ]
  },
  {
   "cell_type": "code",
   "execution_count": null,
   "metadata": {},
   "outputs": [],
   "source": [
    "### get all features from an object\n",
    "obj_name = 'ZTF18abvpirg' # from labeled-set\n",
    "features, c, features_names = get_object_features(features_labeled_ddf, labels_ddf, obj_name)\n",
    "fdict = {f:features[kf] for kf,f in enumerate(features_names)}\n",
    "print(f'obj={obj_name}; class={c}; features={len(features)}')\n",
    "for k,key in enumerate(fdict.keys()):\n",
    "    print(f'({k}); {key}={fdict[key]}')"
   ]
  },
  {
   "cell_type": "code",
   "execution_count": null,
   "metadata": {},
   "outputs": [],
   "source": [
    "### get features per band from an object\n",
    "obj_name = 'ZTF18abvpirg' # from labeled-set\n",
    "band = 1\n",
    "features, c, features_names = get_object_features(features_labeled_ddf, labels_ddf, obj_name, band=band)\n",
    "fdict = {f:features[kf] for kf,f in enumerate(features_names)}\n",
    "print(f'obj={obj_name}; class={c}; features={len(features)}')\n",
    "for k,key in enumerate(fdict.keys()):\n",
    "    print(f'({k}) {key}={fdict[key]}')"
   ]
  },
  {
   "cell_type": "code",
   "execution_count": null,
   "metadata": {},
   "outputs": [],
   "source": [
    "%load_ext autoreload\n",
    "%autoreload 2\n",
    "from mismatch import _C\n",
    "from mismatch.utils import get_object_features\n",
    "from dask import dataframe as dd\n",
    "\n",
    "### get features non-band-wise features\n",
    "obj_name = 'ZTF18abvpirg' # from labeled-set\n",
    "band = -1\n",
    "features, c, features_names = get_object_features(features_labeled_ddf, labels_ddf, obj_name, band=band)\n",
    "fdict = {f:features[kf] for kf,f in enumerate(features_names)}\n",
    "print(f'obj={obj_name}; class={c}; features={len(features)}')\n",
    "for k,key in enumerate(fdict.keys()):\n",
    "    print(f'({k}); {key}={fdict[key]}')"
   ]
  },
  {
   "cell_type": "code",
   "execution_count": null,
   "metadata": {},
   "outputs": [],
   "source": [
    "### get features from a non-labeled sample. returned class is None\n",
    "obj_name = 'ZTF17aaacvqh' # from non-labeled-set\n",
    "features, c, features_names = get_object_features(features_nonlabeled_ddf, labels_ddf, obj_name, band=1)\n",
    "fdict = {f:features[kf] for kf,f in enumerate(features_names)}\n",
    "print(f'obj={obj_name}; class={c}; features={len(features)}')\n",
    "for k,key in enumerate(fdict.keys()):\n",
    "    print(f'({k}); {key}={fdict[key]}')"
   ]
  }
 ],
 "metadata": {
  "kernelspec": {
   "display_name": "Python 3",
   "language": "python",
   "name": "python3"
  },
  "language_info": {
   "codemirror_mode": {
    "name": "ipython",
    "version": 3
   },
   "file_extension": ".py",
   "mimetype": "text/x-python",
   "name": "python",
   "nbconvert_exporter": "python",
   "pygments_lexer": "ipython3",
   "version": "3.7.10"
  }
 },
 "nbformat": 4,
 "nbformat_minor": 4
}
